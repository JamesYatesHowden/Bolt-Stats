{
 "cells": [
  {
   "cell_type": "markdown",
   "metadata": {},
   "source": [
    "This scipt describes the statistics of available bolt sizes and determines their cross-sectional area."
   ]
  },
  {
   "cell_type": "markdown",
   "metadata": {},
   "source": [
    "r - Radius - [mm]<br>\n",
    "L - Length - [mm]<br>\n",
    "A - Area - [mm<sup>4</sup>]<br>"
   ]
  },
  {
   "cell_type": "code",
   "execution_count": null,
   "metadata": {},
   "outputs": [],
   "source": []
  },
  {
   "cell_type": "code",
   "execution_count": null,
   "metadata": {},
   "outputs": [],
   "source": [
    "import pandas as pd\n",
    "import matplotlib.pyplot as plt\n",
    "from math import pi"
   ]
  },
  {
   "cell_type": "code",
   "execution_count": null,
   "metadata": {},
   "outputs": [],
   "source": [
    "# importing bolt data\n",
    "# data = pd.read_csv('bolts.csv')\n",
    "# print(data)"
   ]
  },
  {
   "cell_type": "code",
   "execution_count": null,
   "metadata": {},
   "outputs": [],
   "source": [
    "# high level statistics\n",
    "# stats = data.describe()\n",
    "# print(stats)"
   ]
  },
  {
   "cell_type": "code",
   "execution_count": null,
   "metadata": {},
   "outputs": [],
   "source": [
    "# radius histogram\n",
    "# r = data['r - [mm]']\n",
    "# plt.hist(r, bins=10)"
   ]
  },
  {
   "cell_type": "code",
   "execution_count": null,
   "metadata": {},
   "outputs": [],
   "source": [
    "# length histogram\n",
    "# L = data['L - [mm]']\n",
    "# plt.hist(L, bins=10)"
   ]
  },
  {
   "cell_type": "code",
   "execution_count": null,
   "metadata": {},
   "outputs": [],
   "source": [
    "# area function\n",
    "# def area(r):\n",
    "#     return pi * r ** 2"
   ]
  },
  {
   "cell_type": "code",
   "execution_count": null,
   "metadata": {},
   "outputs": [],
   "source": [
    "# calculate area\n",
    "# A = []\n",
    "# for radius in r:\n",
    "#     A.append(area(radius))"
   ]
  },
  {
   "cell_type": "code",
   "execution_count": null,
   "metadata": {},
   "outputs": [],
   "source": [
    "# area histogram\n",
    "# plt.hist(A, bins=10)"
   ]
  },
  {
   "cell_type": "code",
   "execution_count": null,
   "metadata": {},
   "outputs": [],
   "source": [
    "# export area data\n",
    "# pd.DataFrame(A, columns=['Area - [mm4]']).to_csv('area.csv', index=False)\n"
   ]
  }
 ],
 "metadata": {
  "kernelspec": {
   "display_name": "Python 3.7.2 64-bit",
   "language": "python",
   "name": "python3"
  },
  "language_info": {
   "codemirror_mode": {
    "name": "ipython",
    "version": 3
   },
   "file_extension": ".py",
   "mimetype": "text/x-python",
   "name": "python",
   "nbconvert_exporter": "python",
   "pygments_lexer": "ipython3",
   "version": "3.7.2"
  },
  "orig_nbformat": 4,
  "vscode": {
   "interpreter": {
    "hash": "440894fcec9bcf8f90030c5c9d22cd7e1875e340a5ec088830713c6f72b3403f"
   }
  }
 },
 "nbformat": 4,
 "nbformat_minor": 2
}
